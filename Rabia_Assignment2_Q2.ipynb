{
  "cells": [
    {
      "cell_type": "markdown",
      "metadata": {
        "id": "view-in-github",
        "colab_type": "text"
      },
      "source": [
        "<a href=\"https://colab.research.google.com/github/RabiaBabar/Deep-Learning---Computer-Vision/blob/Assignment-2---AI-%26-Computer-Vision/Rabia_Assignment2_Q2.ipynb\" target=\"_parent\"><img src=\"https://colab.research.google.com/assets/colab-badge.svg\" alt=\"Open In Colab\"/></a>"
      ]
    },
    {
      "cell_type": "code",
      "execution_count": 1,
      "metadata": {
        "colab": {
          "base_uri": "https://localhost:8080/"
        },
        "id": "wvZ9VcrunEQa",
        "outputId": "046b3263-a4d6-4fa1-9c77-7ab792085ec7"
      },
      "outputs": [
        {
          "output_type": "stream",
          "name": "stdout",
          "text": [
            "Drive already mounted at /content/drive; to attempt to forcibly remount, call drive.mount(\"/content/drive\", force_remount=True).\n",
            "/content/drive/MyDrive/data_assign_2/hand_written_digits\n"
          ]
        }
      ],
      "source": [
        "from google.colab import drive\n",
        "drive.mount('/content/drive')\n",
        "\n",
        "# Confirming mount location\n",
        "current_directory = '/content'\n",
        "\n",
        "%cd /content/drive/MyDrive/data_assign_2/hand_written_digits\n",
        "\n"
      ]
    },
    {
      "cell_type": "code",
      "execution_count": 2,
      "metadata": {
        "id": "xtUkrHcmnFAF"
      },
      "outputs": [],
      "source": [
        "import os\n",
        "import numpy as np\n",
        "import tensorflow as tf\n",
        "import matplotlib.pyplot as plt\n",
        "from tensorflow.keras.models import Sequential\n",
        "from tensorflow.keras.layers import Flatten, Dense, Dropout\n",
        "from tensorflow.keras.applications import VGG16\n",
        "from tensorflow.keras.preprocessing import image\n",
        "from tensorflow.keras.preprocessing import image_dataset_from_directory\n",
        "from tensorflow.keras.layers import Dense, GlobalAveragePooling2D\n",
        "from tensorflow.keras.models import Model\n",
        "\n",
        "# Define directory path to your dataset\n",
        "data_directory = \"/content/drive/MyDrive/data_assign_2/hand_written_digits\"\n",
        "\n"
      ]
    },
    {
      "cell_type": "code",
      "execution_count": 4,
      "metadata": {
        "colab": {
          "base_uri": "https://localhost:8080/"
        },
        "id": "5rJHRAiQnFC0",
        "outputId": "c5124012-653d-4a95-8732-09ae33a15fca"
      },
      "outputs": [
        {
          "output_type": "stream",
          "name": "stdout",
          "text": [
            "Found 4668 files belonging to 3 classes.\n",
            "Using 3735 files for training.\n",
            "Found 4668 files belonging to 3 classes.\n",
            "Using 933 files for validation.\n"
          ]
        }
      ],
      "source": [
        "# Set parameters for data loader\n",
        "batch_size_vgg16 = 32\n",
        "img_height_vgg16 = 100\n",
        "img_width_vgg16 = 100\n",
        "\n",
        "train_data_vgg16 = tf.keras.utils.image_dataset_from_directory(\n",
        "    data_directory,\n",
        "    labels='inferred',\n",
        "    label_mode='int',  # 'binary' for two classes,'categorical' for multi-classes\n",
        "    validation_split=0.2,\n",
        "    subset=\"training\",\n",
        "    seed=123,\n",
        "    image_size=(img_width_vgg16, img_height_vgg16),\n",
        "    batch_size=batch_size_vgg16,\n",
        ")\n",
        "\n",
        "validation_data_vgg16 = tf.keras.utils.image_dataset_from_directory(\n",
        "    data_directory,\n",
        "    labels='inferred',\n",
        "    label_mode='int',  # Change to 'binary' if you have two classes\n",
        "    validation_split=0.2,\n",
        "    subset=\"validation\",\n",
        "    seed=123,\n",
        "    image_size=(img_width_vgg16, img_height_vgg16),\n",
        "    batch_size=batch_size_vgg16,\n",
        ")\n",
        "\n"
      ]
    },
    {
      "cell_type": "markdown",
      "metadata": {
        "id": "tTy1UnfrnXVs"
      },
      "source": [
        "**Transfer Learning Models - vGG16**"
      ]
    },
    {
      "cell_type": "code",
      "execution_count": 5,
      "metadata": {
        "id": "0pEDq3rcnFGA"
      },
      "outputs": [],
      "source": [
        "\n",
        "# Load the base VGG16 model, excluding the top classification layer\n",
        "base_model_vgg16 = VGG16(weights='imagenet', include_top=False, input_shape=(img_height_vgg16, img_width_vgg16, 3))\n",
        "\n",
        "# Freeze the layers of the base model\n",
        "for layer_vgg16 in base_model_vgg16.layers:\n",
        "    layer_vgg16.trainable = False\n",
        "\n",
        "# Add new top layers\n",
        "x_vgg16 = Flatten()(base_model_vgg16.output)\n",
        "x_vgg16 = Dense(128, activation='relu')(x_vgg16)\n",
        "x_vgg16 = Dropout(0.5)(x_vgg16)\n",
        "predictions_vgg16 = Dense(3, activation='softmax')(x_vgg16)  # Assuming 3 classes\n",
        "\n",
        "# Create a new model by combining pre-trained VGG16 with your own top layers\n",
        "model_transfer_learning_vgg16 = Model(inputs=base_model_vgg16.input, outputs=predictions_vgg16)\n",
        "\n",
        "# Compile the model\n",
        "model_transfer_learning_vgg16.compile(optimizer=tf.keras.optimizers.Adam(1e-5),\n",
        "                                      loss='sparse_categorical_crossentropy',\n",
        "                                      metrics=['accuracy'])\n",
        "\n"
      ]
    },
    {
      "cell_type": "code",
      "execution_count": 6,
      "metadata": {
        "colab": {
          "base_uri": "https://localhost:8080/"
        },
        "id": "hu136BMZnFKt",
        "outputId": "27c965c9-647e-4f54-fff0-c8a616873534"
      },
      "outputs": [
        {
          "output_type": "stream",
          "name": "stdout",
          "text": [
            "Model: \"model\"\n",
            "_________________________________________________________________\n",
            " Layer (type)                Output Shape              Param #   \n",
            "=================================================================\n",
            " input_1 (InputLayer)        [(None, 100, 100, 3)]     0         \n",
            "                                                                 \n",
            " block1_conv1 (Conv2D)       (None, 100, 100, 64)      1792      \n",
            "                                                                 \n",
            " block1_conv2 (Conv2D)       (None, 100, 100, 64)      36928     \n",
            "                                                                 \n",
            " block1_pool (MaxPooling2D)  (None, 50, 50, 64)        0         \n",
            "                                                                 \n",
            " block2_conv1 (Conv2D)       (None, 50, 50, 128)       73856     \n",
            "                                                                 \n",
            " block2_conv2 (Conv2D)       (None, 50, 50, 128)       147584    \n",
            "                                                                 \n",
            " block2_pool (MaxPooling2D)  (None, 25, 25, 128)       0         \n",
            "                                                                 \n",
            " block3_conv1 (Conv2D)       (None, 25, 25, 256)       295168    \n",
            "                                                                 \n",
            " block3_conv2 (Conv2D)       (None, 25, 25, 256)       590080    \n",
            "                                                                 \n",
            " block3_conv3 (Conv2D)       (None, 25, 25, 256)       590080    \n",
            "                                                                 \n",
            " block3_pool (MaxPooling2D)  (None, 12, 12, 256)       0         \n",
            "                                                                 \n",
            " block4_conv1 (Conv2D)       (None, 12, 12, 512)       1180160   \n",
            "                                                                 \n",
            " block4_conv2 (Conv2D)       (None, 12, 12, 512)       2359808   \n",
            "                                                                 \n",
            " block4_conv3 (Conv2D)       (None, 12, 12, 512)       2359808   \n",
            "                                                                 \n",
            " block4_pool (MaxPooling2D)  (None, 6, 6, 512)         0         \n",
            "                                                                 \n",
            " block5_conv1 (Conv2D)       (None, 6, 6, 512)         2359808   \n",
            "                                                                 \n",
            " block5_conv2 (Conv2D)       (None, 6, 6, 512)         2359808   \n",
            "                                                                 \n",
            " block5_conv3 (Conv2D)       (None, 6, 6, 512)         2359808   \n",
            "                                                                 \n",
            " block5_pool (MaxPooling2D)  (None, 3, 3, 512)         0         \n",
            "                                                                 \n",
            " flatten (Flatten)           (None, 4608)              0         \n",
            "                                                                 \n",
            " dense (Dense)               (None, 128)               589952    \n",
            "                                                                 \n",
            " dropout (Dropout)           (None, 128)               0         \n",
            "                                                                 \n",
            " dense_1 (Dense)             (None, 3)                 387       \n",
            "                                                                 \n",
            "=================================================================\n",
            "Total params: 15305027 (58.38 MB)\n",
            "Trainable params: 590339 (2.25 MB)\n",
            "Non-trainable params: 14714688 (56.13 MB)\n",
            "_________________________________________________________________\n"
          ]
        }
      ],
      "source": [
        "# Display the model summary\n",
        "model_transfer_learning_vgg16.summary()\n"
      ]
    },
    {
      "cell_type": "code",
      "execution_count": 7,
      "metadata": {
        "colab": {
          "base_uri": "https://localhost:8080/"
        },
        "id": "SizMZURynFPj",
        "outputId": "66ef8c07-434e-464e-821a-38fdf8064300"
      },
      "outputs": [
        {
          "output_type": "stream",
          "name": "stdout",
          "text": [
            "Epoch 1/10\n",
            "117/117 [==============================] - 609s 5s/step - loss: 8.5161 - accuracy: 0.5055 - val_loss: 0.4783 - val_accuracy: 0.9035\n",
            "Epoch 2/10\n",
            "117/117 [==============================] - 595s 5s/step - loss: 3.3890 - accuracy: 0.7210 - val_loss: 0.1826 - val_accuracy: 0.9593\n",
            "Epoch 3/10\n",
            "117/117 [==============================] - 593s 5s/step - loss: 1.7027 - accuracy: 0.8380 - val_loss: 0.1519 - val_accuracy: 0.9700\n",
            "Epoch 4/10\n",
            "117/117 [==============================] - 597s 5s/step - loss: 1.2015 - accuracy: 0.8787 - val_loss: 0.1262 - val_accuracy: 0.9786\n",
            "Epoch 5/10\n",
            "117/117 [==============================] - 592s 5s/step - loss: 0.9295 - accuracy: 0.9033 - val_loss: 0.1125 - val_accuracy: 0.9850\n",
            "Epoch 6/10\n",
            "117/117 [==============================] - 595s 5s/step - loss: 0.7318 - accuracy: 0.9266 - val_loss: 0.1075 - val_accuracy: 0.9861\n",
            "Epoch 7/10\n",
            "117/117 [==============================] - 605s 5s/step - loss: 0.6361 - accuracy: 0.9336 - val_loss: 0.0912 - val_accuracy: 0.9871\n",
            "Epoch 8/10\n",
            "117/117 [==============================] - 606s 5s/step - loss: 0.4865 - accuracy: 0.9470 - val_loss: 0.0877 - val_accuracy: 0.9871\n",
            "Epoch 9/10\n",
            "117/117 [==============================] - 615s 5s/step - loss: 0.5065 - accuracy: 0.9548 - val_loss: 0.0860 - val_accuracy: 0.9882\n",
            "Epoch 10/10\n",
            "117/117 [==============================] - 606s 5s/step - loss: 0.4107 - accuracy: 0.9566 - val_loss: 0.0837 - val_accuracy: 0.9871\n"
          ]
        }
      ],
      "source": [
        "# Set the initial number of epochs\n",
        "initial_epochs_vgg16 = 10  # Adjust as per your requirement\n",
        "\n",
        "# Train the model\n",
        "history_vgg16 = model_transfer_learning_vgg16.fit(\n",
        "    train_data_vgg16,\n",
        "    validation_data=validation_data_vgg16,\n",
        "    epochs=initial_epochs_vgg16\n",
        ")\n"
      ]
    },
    {
      "cell_type": "code",
      "execution_count": 10,
      "metadata": {
        "id": "IRKfwii5nFRe",
        "colab": {
          "base_uri": "https://localhost:8080/"
        },
        "outputId": "6555cfba-f092-4308-c485-39a84e7db4a1"
      },
      "outputs": [
        {
          "output_type": "stream",
          "name": "stdout",
          "text": [
            "30/30 [==============================] - 113s 4s/step - loss: 0.0837 - accuracy: 0.9871\n",
            "Validation accuracy: 98.71%\n"
          ]
        }
      ],
      "source": [
        "# Evaluate the model\n",
        "val_loss_vgg16, val_accuracy_vgg16 = model_transfer_learning_vgg16.evaluate(validation_data_vgg16)\n",
        "print(f'Validation accuracy: {val_accuracy_vgg16 * 100:.2f}%')\n"
      ]
    },
    {
      "cell_type": "code",
      "execution_count": 9,
      "metadata": {
        "id": "-KqdsXxUnFTR",
        "colab": {
          "base_uri": "https://localhost:8080/"
        },
        "outputId": "201e949a-3066-4589-9a00-41d6077fa644"
      },
      "outputs": [
        {
          "output_type": "stream",
          "name": "stderr",
          "text": [
            "/usr/local/lib/python3.10/dist-packages/keras/src/engine/training.py:3103: UserWarning: You are saving your model as an HDF5 file via `model.save()`. This file format is considered legacy. We recommend using instead the native Keras format, e.g. `model.save('my_model.keras')`.\n",
            "  saving_api.save_model(\n"
          ]
        }
      ],
      "source": [
        "# Save the trained model\n",
        "model_transfer_learning_vgg16.save('/content/drive/MyDrive/VGG16_TransferLearning.h5')\n",
        "\n"
      ]
    },
    {
      "cell_type": "markdown",
      "metadata": {
        "id": "ZKz_tOYBoBvQ"
      },
      "source": [
        "**Fine-tuning the model**"
      ]
    },
    {
      "cell_type": "code",
      "execution_count": 11,
      "metadata": {
        "id": "VEAxfn94nFVS",
        "colab": {
          "base_uri": "https://localhost:8080/"
        },
        "outputId": "8f08e459-9f00-44fc-d31b-d2bbe903a218"
      },
      "outputs": [
        {
          "output_type": "stream",
          "name": "stdout",
          "text": [
            "Epoch 10/15\n",
            "117/117 [==============================] - 598s 5s/step - loss: 0.3051 - accuracy: 0.9676 - val_loss: 0.0755 - val_accuracy: 0.9893\n",
            "Epoch 11/15\n",
            "117/117 [==============================] - 603s 5s/step - loss: 0.2685 - accuracy: 0.9705 - val_loss: 0.0684 - val_accuracy: 0.9904\n",
            "Epoch 12/15\n",
            "117/117 [==============================] - 597s 5s/step - loss: 0.2589 - accuracy: 0.9719 - val_loss: 0.0661 - val_accuracy: 0.9904\n",
            "Epoch 13/15\n",
            "117/117 [==============================] - 613s 5s/step - loss: 0.1542 - accuracy: 0.9772 - val_loss: 0.0672 - val_accuracy: 0.9893\n",
            "Epoch 14/15\n",
            "117/117 [==============================] - 603s 5s/step - loss: 0.1461 - accuracy: 0.9805 - val_loss: 0.0645 - val_accuracy: 0.9893\n",
            "Epoch 15/15\n",
            "117/117 [==============================] - 595s 5s/step - loss: 0.1471 - accuracy: 0.9826 - val_loss: 0.0620 - val_accuracy: 0.9904\n"
          ]
        }
      ],
      "source": [
        "# Unfreeze some top layers of the base model\n",
        "base_model_vgg16.trainable = True\n",
        "fine_tune_at_vgg16 = 100  # This is an example, adjust based on your model's architecture\n",
        "\n",
        "# Freeze all the layers before the 'fine_tune_at' layer\n",
        "for layer_vgg16 in base_model_vgg16.layers[:fine_tune_at_vgg16]:\n",
        "    layer_vgg16.trainable = False\n",
        "\n",
        "# Recompile the model with a lower learning rate\n",
        "model_transfer_learning_vgg16.compile(optimizer=tf.keras.optimizers.Adam(1e-5),  # Lower learning rate\n",
        "                                      loss='sparse_categorical_crossentropy',\n",
        "                                      metrics=['accuracy'])\n",
        "\n",
        "# Continue training\n",
        "fine_tune_epochs_vgg16 = 5\n",
        "total_epochs_vgg16 = initial_epochs_vgg16 + fine_tune_epochs_vgg16\n",
        "\n",
        "history_fine_vgg16 = model_transfer_learning_vgg16.fit(train_data_vgg16,\n",
        "                                                       validation_data=validation_data_vgg16,\n",
        "                                                       epochs=total_epochs_vgg16,\n",
        "                                                       initial_epoch=history_vgg16.epoch[-1])\n",
        "\n"
      ]
    },
    {
      "cell_type": "code",
      "execution_count": 12,
      "metadata": {
        "id": "BS3tIaHHnFXN"
      },
      "outputs": [],
      "source": [
        "# Combine the history from initial training and fine-tuning\n",
        "total_history_vgg16 = {\n",
        "    'accuracy': history_vgg16.history['accuracy'] + history_fine_vgg16.history['accuracy'],\n",
        "    'val_accuracy': history_vgg16.history['val_accuracy'] + history_fine_vgg16.history['val_accuracy'],\n",
        "    'loss': history_vgg16.history['loss'] + history_fine_vgg16.history['loss'],\n",
        "    'val_loss': history_vgg16.history['val_loss'] + history_fine_vgg16.history['val_loss'],\n",
        "}\n",
        "\n"
      ]
    },
    {
      "cell_type": "code",
      "execution_count": 13,
      "metadata": {
        "colab": {
          "base_uri": "https://localhost:8080/",
          "height": 487
        },
        "id": "5O25Dk9joQE0",
        "outputId": "c69690b4-25f4-4ed2-bf5e-18336b1c41ea"
      },
      "outputs": [
        {
          "output_type": "display_data",
          "data": {
            "text/plain": [
              "<Figure size 1200x500 with 2 Axes>"
            ],
            "image/png": "[encoded data removed]"
          },
          "metadata": {}
        }
      ],
      "source": [
        "plt.figure(figsize=(12, 5))\n",
        "\n",
        "# Plot accuracy\n",
        "plt.subplot(1, 2, 1)\n",
        "plt.plot(total_history_vgg16['accuracy'])\n",
        "plt.plot(total_history_vgg16['val_accuracy'])\n",
        "plt.title('Model Accuracy')\n",
        "plt.ylabel('Accuracy')\n",
        "plt.xlabel('Epoch')\n",
        "plt.legend(['Train', 'Val'], loc='upper left')\n",
        "\n",
        "# Plot loss\n",
        "plt.subplot(1, 2, 2)\n",
        "plt.plot(total_history_vgg16['loss'])\n",
        "plt.plot(total_history_vgg16['val_loss'])\n",
        "plt.title('Model Loss')\n",
        "plt.ylabel('Loss')\n",
        "plt.xlabel('Epoch')\n",
        "plt.legend(['Train', 'Val'], loc='upper left')\n",
        "\n",
        "plt.show()\n"
      ]
    }
  ],
  "metadata": {
    "colab": {
      "provenance": [],
      "gpuType": "T4",
      "authorship_tag": "ABX9TyN0UOuY0xoxxeil+nLp/+vv",
      "include_colab_link": true
    },
    "kernelspec": {
      "display_name": "Python 3",
      "name": "python3"
    },
    "language_info": {
      "name": "python"
    },
    "accelerator": "GPU"
  },
  "nbformat": 4,
  "nbformat_minor": 0
}